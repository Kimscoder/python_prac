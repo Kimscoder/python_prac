{
 "cells": [
  {
   "cell_type": "code",
   "execution_count": 8,
   "id": "1862d9f0-33b2-4b1d-ba21-ab99a07573ab",
   "metadata": {},
   "outputs": [
    {
     "name": "stdout",
     "output_type": "stream",
     "text": [
      "10\n"
     ]
    }
   ],
   "source": [
    "k=10;\n",
    "print(k)"
   ]
  },
  {
   "cell_type": "markdown",
   "id": "8df41ddf-c255-453c-b305-dd4401c6d1a3",
   "metadata": {},
   "source": [
    "a=10; "
   ]
  },
  {
   "cell_type": "code",
   "execution_count": 9,
   "id": "4ad4b268-6499-4978-9c6c-71fbbf6af07f",
   "metadata": {},
   "outputs": [
    {
     "name": "stdout",
     "output_type": "stream",
     "text": [
      "10 20 30\n"
     ]
    }
   ],
   "source": [
    "a=10;\n",
    "b=20;\n",
    "c=30;\n",
    "print(a,b,c);"
   ]
  },
  {
   "cell_type": "code",
   "execution_count": 11,
   "id": "24a41e7c-45cc-455c-ac4a-3eb06f10490b",
   "metadata": {},
   "outputs": [
    {
     "name": "stdout",
     "output_type": "stream",
     "text": [
      "# 하나만 출력합니다.\n",
      "Hello Python Programming..!\n",
      "\n"
     ]
    }
   ],
   "source": [
    "print(\"# 하나만 출력합니다.\");\n",
    "print(\"Hello Python Programming..!\");\n",
    "print();"
   ]
  },
  {
   "cell_type": "code",
   "execution_count": 13,
   "id": "1a82f715-5c61-4153-9e7d-0ed27e58d9ec",
   "metadata": {},
   "outputs": [
    {
     "name": "stdout",
     "output_type": "stream",
     "text": [
      "# 여려개를 출력합니다.\n",
      "10 20 30 40\n",
      "안녕하세요 저의 이름은 김민종 입니다.\n",
      "\n"
     ]
    }
   ],
   "source": [
    "print(\"# 여려개를 출력합니다.\");\n",
    "print(10,20,30,40);\n",
    "print(\"안녕하세요\",\"저의\",\"이름은\",\"김민종 입니다.\");\n",
    "print();"
   ]
  },
  {
   "cell_type": "code",
   "execution_count": 14,
   "id": "7a52bc58-733b-452f-bc01-c27943451c6d",
   "metadata": {},
   "outputs": [
    {
     "name": "stdout",
     "output_type": "stream",
     "text": [
      "<class 'str'>\n"
     ]
    }
   ],
   "source": [
    "print(type(\"안녕하세요\"))"
   ]
  },
  {
   "cell_type": "code",
   "execution_count": 15,
   "id": "01b3cf0c-6bd5-49cb-bc0d-a60ceeb640b3",
   "metadata": {},
   "outputs": [
    {
     "name": "stdout",
     "output_type": "stream",
     "text": [
      "<class 'int'>\n"
     ]
    }
   ],
   "source": [
    "print(type(273))"
   ]
  },
  {
   "cell_type": "code",
   "execution_count": 16,
   "id": "fcae9e4c-f31d-4b8c-a4bd-1238f8f86815",
   "metadata": {},
   "outputs": [
    {
     "name": "stdout",
     "output_type": "stream",
     "text": [
      "<class 'str'>\n"
     ]
    }
   ],
   "source": [
    "print(type('c'))"
   ]
  },
  {
   "cell_type": "code",
   "execution_count": 17,
   "id": "ee827abd-f9f2-46c4-8b30-322dd79a71ec",
   "metadata": {},
   "outputs": [
    {
     "name": "stdout",
     "output_type": "stream",
     "text": [
      "111\"11\"111\n"
     ]
    }
   ],
   "source": [
    "print(\"111\\\"11\\\"111\")"
   ]
  },
  {
   "cell_type": "code",
   "execution_count": 1,
   "id": "688aee2f-dd8d-487b-adc5-dfb6ff1bfbb8",
   "metadata": {},
   "outputs": [
    {
     "name": "stdout",
     "output_type": "stream",
     "text": [
      "111\"11\"111\n"
     ]
    }
   ],
   "source": [
    "print(\"111\\\"11\\\"111\")"
   ]
  },
  {
   "cell_type": "code",
   "execution_count": 20,
   "id": "acd64707-340d-492e-a010-bc71eaf1f9bc",
   "metadata": {},
   "outputs": [
    {
     "name": "stdout",
     "output_type": "stream",
     "text": [
      "111 11 111\n"
     ]
    }
   ],
   "source": [
    "print(\"111\",\"11\",\"111\")"
   ]
  },
  {
   "cell_type": "code",
   "execution_count": 21,
   "id": "17a74ce1-43be-4c38-9a1c-403ca5f55b0d",
   "metadata": {},
   "outputs": [
    {
     "name": "stdout",
     "output_type": "stream",
     "text": [
      "111\t11\t111\n"
     ]
    }
   ],
   "source": [
    "print(\"111\\t11\\t111\")"
   ]
  },
  {
   "cell_type": "code",
   "execution_count": 22,
   "id": "3efa3fa1-0499-4f76-96af-4df9e0e644a0",
   "metadata": {},
   "outputs": [
    {
     "name": "stdout",
     "output_type": "stream",
     "text": [
      "안녕하세요\n",
      "반갑습니다\n"
     ]
    }
   ],
   "source": [
    "print(\"안녕하세요\\n반갑습니다\")"
   ]
  },
  {
   "cell_type": "code",
   "execution_count": 27,
   "id": "1f7599ca-4473-43eb-897e-5d518426529e",
   "metadata": {},
   "outputs": [
    {
     "name": "stdout",
     "output_type": "stream",
     "text": [
      "안녕하세요\n",
      "반갑습니다\n"
     ]
    }
   ],
   "source": [
    "print(\"\"\"안녕하세요\n",
    "반갑습니다\"\"\")"
   ]
  },
  {
   "cell_type": "code",
   "execution_count": 28,
   "id": "97e00f35-21f8-4bb7-93a5-c0f75bc19891",
   "metadata": {},
   "outputs": [
    {
     "name": "stdout",
     "output_type": "stream",
     "text": [
      "\n",
      "동해물과 백두산이 마르고 닳도록\n",
      "하느님이 보우하사\n",
      "우리 나라 만세\n",
      "무궁화 삼천리 화려강산\n"
     ]
    }
   ],
   "source": [
    "print(\"\"\"\n",
    "동해물과 백두산이 마르고 닳도록\n",
    "하느님이 보우하사\n",
    "우리 나라 만세\n",
    "무궁화 삼천리 화려강산\"\"\")"
   ]
  },
  {
   "cell_type": "code",
   "execution_count": 29,
   "id": "408bd7b6-7a0a-44b9-9895-7459d51b6be4",
   "metadata": {},
   "outputs": [
    {
     "name": "stdout",
     "output_type": "stream",
     "text": [
      "123asd\n"
     ]
    }
   ],
   "source": [
    "print(\"123\"+\"asd\")"
   ]
  },
  {
   "cell_type": "code",
   "execution_count": 31,
   "id": "e7639332-0998-4cda-b4a2-aac3cc919f07",
   "metadata": {},
   "outputs": [
    {
     "name": "stdout",
     "output_type": "stream",
     "text": [
      "abcabcabc\n"
     ]
    }
   ],
   "source": [
    "print(\"abc\"*3)"
   ]
  },
  {
   "cell_type": "code",
   "execution_count": 32,
   "id": "3901102c-3afa-46d4-8573-3e0d0dc323de",
   "metadata": {},
   "outputs": [
    {
     "data": {
      "text/plain": [
       "'s'"
      ]
     },
     "execution_count": 32,
     "metadata": {},
     "output_type": "execute_result"
    }
   ],
   "source": [
    "k=\"SADsadsadfsdafsaf\"\n",
    "k[3]"
   ]
  },
  {
   "cell_type": "code",
   "execution_count": 33,
   "id": "25ff49f5-4eff-4879-b3a0-ee05c2753f2e",
   "metadata": {},
   "outputs": [
    {
     "data": {
      "text/plain": [
       "'S'"
      ]
     },
     "execution_count": 33,
     "metadata": {},
     "output_type": "execute_result"
    }
   ],
   "source": [
    "\"ASDSADSADFASDS\"[3]"
   ]
  },
  {
   "cell_type": "code",
   "execution_count": 34,
   "id": "c523d640-2c7d-43ce-8f72-f887766afe62",
   "metadata": {},
   "outputs": [
    {
     "data": {
      "text/plain": [
       "'S'"
      ]
     },
     "execution_count": 34,
     "metadata": {},
     "output_type": "execute_result"
    }
   ],
   "source": [
    "\"ASDSADSADFASDS\"[-3]"
   ]
  },
  {
   "cell_type": "code",
   "execution_count": 35,
   "id": "4a5e6ede-8a45-42aa-814e-2a3831898851",
   "metadata": {},
   "outputs": [
    {
     "data": {
      "text/plain": [
       "'ASD'"
      ]
     },
     "execution_count": 35,
     "metadata": {},
     "output_type": "execute_result"
    }
   ],
   "source": [
    "\"ASDSADSADFASDS\"[0:3]"
   ]
  },
  {
   "cell_type": "code",
   "execution_count": 37,
   "id": "59b5ea17-27ce-46de-8ace-a5bd16bd1c3b",
   "metadata": {},
   "outputs": [
    {
     "data": {
      "text/plain": [
       "'SADSADFASDS'"
      ]
     },
     "execution_count": 37,
     "metadata": {},
     "output_type": "execute_result"
    }
   ],
   "source": [
    "\"ASDSADSADFASDS\"[3:]"
   ]
  },
  {
   "cell_type": "code",
   "execution_count": 38,
   "id": "bd33fba0-f5e1-460f-b321-1945d31f7d15",
   "metadata": {},
   "outputs": [
    {
     "data": {
      "text/plain": [
       "'ASD'"
      ]
     },
     "execution_count": 38,
     "metadata": {},
     "output_type": "execute_result"
    }
   ],
   "source": [
    "\"ASDSADSADFASDS\"[:3]"
   ]
  },
  {
   "cell_type": "code",
   "execution_count": 39,
   "id": "05cb2d97-6a44-435f-a35c-f2131fe3a71d",
   "metadata": {},
   "outputs": [
    {
     "name": "stdout",
     "output_type": "stream",
     "text": [
      "안녕\n"
     ]
    }
   ],
   "source": [
    "hello=\"안녕하세요\"\n",
    "print(hello[0:2])"
   ]
  },
  {
   "cell_type": "code",
   "execution_count": 40,
   "id": "9d946022-de3e-45f7-a27f-8d08569f6966",
   "metadata": {},
   "outputs": [
    {
     "data": {
      "text/plain": [
       "14"
      ]
     },
     "execution_count": 40,
     "metadata": {},
     "output_type": "execute_result"
    }
   ],
   "source": [
    "len(\"ASDSADSADFASDS\")"
   ]
  },
  {
   "cell_type": "code",
   "execution_count": 41,
   "id": "a461cd00-4a79-4034-ae2f-41966179e911",
   "metadata": {},
   "outputs": [
    {
     "name": "stdout",
     "output_type": "stream",
     "text": [
      "<class 'int'>\n"
     ]
    }
   ],
   "source": [
    "print(type(52))"
   ]
  },
  {
   "cell_type": "code",
   "execution_count": 42,
   "id": "5e44fa67-89c0-4847-ba1a-7c2495feb470",
   "metadata": {},
   "outputs": [
    {
     "name": "stdout",
     "output_type": "stream",
     "text": [
      "<class 'float'>\n"
     ]
    }
   ],
   "source": [
    "print(type(52.312))"
   ]
  },
  {
   "cell_type": "code",
   "execution_count": 43,
   "id": "d9a9fc3f-4918-4523-a69d-f12752f8728a",
   "metadata": {},
   "outputs": [
    {
     "name": "stdout",
     "output_type": "stream",
     "text": [
      "<class 'float'>\n"
     ]
    }
   ],
   "source": [
    "print(type(52.))"
   ]
  },
  {
   "cell_type": "code",
   "execution_count": 44,
   "id": "04aaa6e3-8e68-4b61-9c96-7935f761447d",
   "metadata": {},
   "outputs": [
    {
     "name": "stdout",
     "output_type": "stream",
     "text": [
      "5+7 =  12\n"
     ]
    }
   ],
   "source": [
    "print(\"5+7 = \",5+7)"
   ]
  },
  {
   "cell_type": "code",
   "execution_count": 45,
   "id": "daee67c2-d811-4329-80b0-abb08808e6c5",
   "metadata": {},
   "outputs": [
    {
     "name": "stdout",
     "output_type": "stream",
     "text": [
      "5-7 =  -2\n"
     ]
    }
   ],
   "source": [
    "print(\"5-7 = \",5-7)"
   ]
  },
  {
   "cell_type": "code",
   "execution_count": 46,
   "id": "f02dc7c6-b3f4-42ff-a63c-0ec9a1ad997a",
   "metadata": {},
   "outputs": [
    {
     "name": "stdout",
     "output_type": "stream",
     "text": [
      "5*7 =  35\n"
     ]
    }
   ],
   "source": [
    "print(\"5*7 = \",5*7)"
   ]
  },
  {
   "cell_type": "code",
   "execution_count": 47,
   "id": "6ffcf0a8-3bc0-4c96-803b-e058c915a196",
   "metadata": {},
   "outputs": [
    {
     "name": "stdout",
     "output_type": "stream",
     "text": [
      "5 / 7 = 0.7142857142857143\n"
     ]
    }
   ],
   "source": [
    "print(\"5 / 7 =\",5/7)"
   ]
  },
  {
   "cell_type": "code",
   "execution_count": 49,
   "id": "e5a93999-c307-4172-9ae8-e735c3ee2db5",
   "metadata": {},
   "outputs": [
    {
     "name": "stdout",
     "output_type": "stream",
     "text": [
      "5 // 2 =  2\n"
     ]
    }
   ],
   "source": [
    "print(\"5 // 2 = \",5//2)"
   ]
  },
  {
   "cell_type": "code",
   "execution_count": 51,
   "id": "3d29211b-699b-405c-9c10-a3a867b0af2b",
   "metadata": {},
   "outputs": [
    {
     "name": "stdout",
     "output_type": "stream",
     "text": [
      "5%2 =  1\n"
     ]
    }
   ],
   "source": [
    "print(\"5%2 = \",5%2)"
   ]
  },
  {
   "cell_type": "code",
   "execution_count": 55,
   "id": "d8155bae-bb45-4171-a233-a89cea33de95",
   "metadata": {},
   "outputs": [
    {
     "name": "stdout",
     "output_type": "stream",
     "text": [
      "2 ** 3= 2\n"
     ]
    }
   ],
   "source": [
    "print(\"2 ** 3=\",2**1)"
   ]
  },
  {
   "cell_type": "code",
   "execution_count": 58,
   "id": "ee973792-9524-415a-90ba-8f851e9b0b20",
   "metadata": {},
   "outputs": [
    {
     "name": "stdin",
     "output_type": "stream",
     "text": [
      "인사말을 입력하세요 hi\n"
     ]
    },
    {
     "name": "stdout",
     "output_type": "stream",
     "text": [
      "hi\n"
     ]
    }
   ],
   "source": [
    "string =input(\"인사말을 입력하세요\")\n",
    "print(string)"
   ]
  },
  {
   "cell_type": "raw",
   "id": "a33ad34d-dfc8-47c2-a38c-c2af480d1c9e",
   "metadata": {},
   "source": [
    "string = input(\"숫자를 입력하세요\")\n",
    "print(string)"
   ]
  },
  {
   "cell_type": "code",
   "execution_count": 60,
   "id": "79199aed-816d-441d-a7c9-32953edc4c8b",
   "metadata": {},
   "outputs": [
    {
     "name": "stdin",
     "output_type": "stream",
     "text": [
      "입력A: 273\n",
      "입력B: 52\n"
     ]
    },
    {
     "name": "stdout",
     "output_type": "stream",
     "text": [
      "문자열 자료: 273 52\n",
      "숫자 자료 : 273 52\n"
     ]
    }
   ],
   "source": [
    "string_a = input(\"입력A:\")\n",
    "int_a = int(string_a)\n",
    "\n",
    "string_b = input(\"입력B:\")\n",
    "int_b =int(string_b)\n",
    "\n",
    "print(\"문자열 자료:\",string_a,string_b)\n",
    "print(\"숫자 자료 :\",int_a,int_b)"
   ]
  },
  {
   "cell_type": "markdown",
   "id": "51a17b38-8287-4fa6-8863-9f99669cb79f",
   "metadata": {},
   "source": [
    "input_a = float(input(\"첫 번째 숫자: \"))\n",
    "input_b = float(input(\"두 번째 숫자: \"))\n",
    "\n",
    "print(\"덧셈 결과:\",input_a+input_b)\n",
    "print(\"뺄셈 결과:\",input_a-input_b)\n",
    "print(\"곱셈 결과:\",input_a*input_b)\n",
    "print(\"나눗셈 결과:\",input_a/input_b)"
   ]
  },
  {
   "cell_type": "code",
   "execution_count": 62,
   "id": "f1e299ee-a893-45a9-850b-b4179af42572",
   "metadata": {},
   "outputs": [
    {
     "name": "stdin",
     "output_type": "stream",
     "text": [
      "첫 번째 숫자:  273\n",
      "두 번째 숫자:  52\n"
     ]
    },
    {
     "name": "stdout",
     "output_type": "stream",
     "text": [
      "덧셈 결과: 325.0\n",
      "뺄셈 결과: 221.0\n",
      "곱셈 결과: 14196.0\n",
      "나눗셈 결과: 5.25\n"
     ]
    }
   ],
   "source": [
    "input_a = float(input(\"첫 번째 숫자: \"))\n",
    "input_b = float(input(\"두 번째 숫자: \"))\n",
    "\n",
    "print(\"덧셈 결과:\",input_a+input_b)\n",
    "print(\"뺄셈 결과:\",input_a-input_b)\n",
    "print(\"곱셈 결과:\",input_a*input_b)\n",
    "print(\"나눗셈 결과:\",input_a/input_b)"
   ]
  },
  {
   "cell_type": "code",
   "execution_count": 65,
   "id": "a3005732-9068-4188-b6b8-725360aaee70",
   "metadata": {},
   "outputs": [
    {
     "name": "stdout",
     "output_type": "stream",
     "text": [
      "<class 'str'> 52\n",
      "<class 'str'> 52.32\n"
     ]
    }
   ],
   "source": [
    "output_a=str(52)\n",
    "output_b=str(52.32)\n",
    "print(type(output_a),output_a)\n",
    "print(type(output_b),output_b)"
   ]
  },
  {
   "cell_type": "code",
   "execution_count": 70,
   "id": "c394d234-358c-4bb7-a0cb-40c02affec1a",
   "metadata": {},
   "outputs": [
    {
     "name": "stdout",
     "output_type": "stream",
     "text": [
      "True\n",
      "False\n"
     ]
    }
   ],
   "source": [
    "print(True)\n",
    "print(False)"
   ]
  },
  {
   "cell_type": "code",
   "execution_count": 71,
   "id": "144012f7-dd40-490b-98cc-f09db63fea4e",
   "metadata": {},
   "outputs": [
    {
     "name": "stdout",
     "output_type": "stream",
     "text": [
      "False\n",
      "True\n",
      "True\n",
      "False\n",
      "True\n",
      "False\n"
     ]
    }
   ],
   "source": [
    "print(10==100)\n",
    "print(10!=100)\n",
    "print(10<100)\n",
    "print(10>100)\n",
    "print(10<=100)\n",
    "print(10>=100)"
   ]
  },
  {
   "cell_type": "code",
   "execution_count": 72,
   "id": "3445490b-a0eb-4314-8c76-d279d8a06ab1",
   "metadata": {},
   "outputs": [
    {
     "name": "stdout",
     "output_type": "stream",
     "text": [
      "True\n",
      "True\n",
      "True\n",
      "False\n"
     ]
    }
   ],
   "source": [
    "print(\"가방\"==\"가방\")\n",
    "print(\"가방\" != \"하마\")\n",
    "print(\"가방\" <\"하마\")\n",
    "print(\"가방\" > \"하마\")"
   ]
  },
  {
   "cell_type": "code",
   "execution_count": 73,
   "id": "f79796d4-c0a4-45ac-b29e-6dd7a49c6246",
   "metadata": {},
   "outputs": [
    {
     "name": "stdout",
     "output_type": "stream",
     "text": [
      "False\n",
      "True\n"
     ]
    }
   ],
   "source": [
    "print(not True)\n",
    "print(not False)"
   ]
  },
  {
   "cell_type": "code",
   "execution_count": 74,
   "id": "d032b8e8-19c0-4cf8-a817-573ee13af0ad",
   "metadata": {},
   "outputs": [
    {
     "name": "stdout",
     "output_type": "stream",
     "text": [
      "under_20: True\n",
      "not under_20: False\n"
     ]
    }
   ],
   "source": [
    "x=10\n",
    "under_20 =x<20\n",
    "print(\"under_20:\",under_20)\n",
    "print(\"not under_20:\",not under_20)"
   ]
  },
  {
   "cell_type": "code",
   "execution_count": 77,
   "id": "88dcb00e-365f-4c01-95f8-266914c26847",
   "metadata": {},
   "outputs": [
    {
     "name": "stdout",
     "output_type": "stream",
     "text": [
      "True입니다..!\n",
      "정말 True입니다..!\n"
     ]
    }
   ],
   "source": [
    "if True:\n",
    "    print(\"True입니다..!\")\n",
    "    print(\"정말 True입니다..!\")\n",
    "\n",
    "if False:\n",
    "    print(\"False입니다...!\")"
   ]
  },
  {
   "cell_type": "code",
   "execution_count": 78,
   "id": "84e643c1-28ad-43aa-a7bf-9d95b8e7f0a5",
   "metadata": {},
   "outputs": [
    {
     "name": "stdin",
     "output_type": "stream",
     "text": [
      "정수입력 : 123\n"
     ]
    }
   ],
   "source": [
    "number=input(\"정수입력 :\")\n",
    "number =int(number)"
   ]
  },
  {
   "cell_type": "code",
   "execution_count": 79,
   "id": "8a24c648-972f-4cda-86a3-027c30f6ba11",
   "metadata": {},
   "outputs": [
    {
     "name": "stdout",
     "output_type": "stream",
     "text": [
      "양수입니다\n"
     ]
    }
   ],
   "source": [
    "if number>0:\n",
    "    print(\"양수입니다\")"
   ]
  },
  {
   "cell_type": "code",
   "execution_count": 80,
   "id": "1fdbe2f1-7990-45f4-aff2-5b523c69974d",
   "metadata": {},
   "outputs": [],
   "source": [
    "if number<0:\n",
    "    print(\"음수입니다\")"
   ]
  },
  {
   "cell_type": "code",
   "execution_count": 81,
   "id": "99de5d5a-de81-4eef-99a0-5d1d6291c29f",
   "metadata": {},
   "outputs": [],
   "source": [
    "if number==0:\n",
    "    print(\"0입니다\")"
   ]
  },
  {
   "cell_type": "code",
   "execution_count": 82,
   "id": "c40438e4-ecaf-47cc-ad1b-c7496a6d8b6a",
   "metadata": {},
   "outputs": [],
   "source": [
    "import datetime"
   ]
  },
  {
   "cell_type": "code",
   "execution_count": 84,
   "id": "9ab54c9a-fff2-49c4-83ef-3be370433168",
   "metadata": {},
   "outputs": [
    {
     "name": "stdout",
     "output_type": "stream",
     "text": [
      "2024 년\n",
      "1 월\n",
      "18 일\n",
      "15 시\n",
      "6 분\n",
      "20 초\n"
     ]
    }
   ],
   "source": [
    "now = datetime.datetime.now()\n",
    "\n",
    "print(now.year,\"년\")\n",
    "print(now.month,\"월\")\n",
    "print(now.day,\"일\")\n",
    "print(now.hour,\"시\")\n",
    "print(now.minute,\"분\")\n",
    "print(now.second,\"초\")"
   ]
  },
  {
   "cell_type": "code",
   "execution_count": 85,
   "id": "a87eda71-5af6-4c55-906e-9774deb2db4c",
   "metadata": {},
   "outputs": [
    {
     "data": {
      "text/plain": [
       "2"
      ]
     },
     "execution_count": 85,
     "metadata": {},
     "output_type": "execute_result"
    }
   ],
   "source": [
    "day = datetime.date(2023,10,11)\n",
    "day.weekday()"
   ]
  },
  {
   "cell_type": "code",
   "execution_count": 86,
   "id": "379cb5aa-f604-40d0-bf89-92a27c333b30",
   "metadata": {},
   "outputs": [
    {
     "name": "stdout",
     "output_type": "stream",
     "text": [
      "현재 시각은 15시로 오후입니다!.\n"
     ]
    }
   ],
   "source": [
    "if now.hour<12:\n",
    "    print(\"현재 시각은 {}시로 오전입니다!.\".format(now.hour))\n",
    "\n",
    "if now.hour >=12:\n",
    "    print(\"현재 시각은 {}시로 오후입니다!.\".format(now.hour))"
   ]
  },
  {
   "cell_type": "code",
   "execution_count": 89,
   "id": "7ea1edda-cd35-4684-a939-4968b309a5d3",
   "metadata": {},
   "outputs": [
    {
     "name": "stdout",
     "output_type": "stream",
     "text": [
      "이번 달은 1월로 겨울입니다.\n"
     ]
    }
   ],
   "source": [
    "if 3<= now.month <=5:\n",
    "    print(\"이번 달은 {}월로 봄입니다.\".format(now.month))\n",
    "\n",
    "if 6<= now.month<=8:\n",
    "    print(\"이번 달은 {}월로 여름입니다.\".format(now.month))\n",
    "\n",
    "if 9<= now.month <=11:\n",
    "    print(\"이번 달은 {}월로 가을입니다.\".format(now.month))\n",
    "\n",
    "if now.month ==12 or 1<= now.month <= 2:\n",
    "    print(\"이번 달은 {}월로 겨울입니다.\".format(now.month))"
   ]
  },
  {
   "cell_type": "code",
   "execution_count": 92,
   "id": "1002f211-2daa-4545-b708-41a22f2c57a6",
   "metadata": {},
   "outputs": [
    {
     "name": "stdin",
     "output_type": "stream",
     "text": [
      "값 입력 10\n"
     ]
    }
   ],
   "source": [
    "inputnumber = input(\"값 입력\")\n",
    "\n",
    "last_number = inputnumber[-1]\n",
    "\n",
    "if last_number ==0\\\n",
    "    or last_number ==2\\\n",
    "    or last_number ==4\\\n",
    "    or last_number ==6\\\n",
    "    or last_number ==8:\n",
    "    print(\"짝수입니다.\")\n",
    "\n",
    "if last_number ==1\\\n",
    "    or last_number ==3\\\n",
    "    or last_number ==5\\\n",
    "    or last_number ==7\\\n",
    "    or last_number ==9:\n",
    "    print(\"홀수입니다.\")"
   ]
  },
  {
   "cell_type": "markdown",
   "id": "85c8393e-41a9-402b-ac22-f7185af285f3",
   "metadata": {},
   "source": [
    "number = input(\"정수 입력 :\")\n",
    "\n",
    "last_character = number[-1]\n",
    "\n",
    "if last_character in \"02468\":\n",
    "    print(\"짝수입니다\")\n",
    "\n",
    "if last_character in \"13579\":\n",
    "    print(\"홀수입니다\")"
   ]
  },
  {
   "cell_type": "code",
   "execution_count": 94,
   "id": "40e4dc74-c09d-430c-9fa5-96bdf8c0e4c7",
   "metadata": {},
   "outputs": [
    {
     "name": "stdin",
     "output_type": "stream",
     "text": [
      "정수 입력 :  13\n"
     ]
    },
    {
     "name": "stdout",
     "output_type": "stream",
     "text": [
      "홀수입니다\n"
     ]
    }
   ],
   "source": [
    "number = input(\"정수 입력 : \")\n",
    "\n",
    "number =int(number)\n",
    "\n",
    "if number %2 ==0:\n",
    "    print(\"짝수입니다\")\n",
    "\n",
    "if number %2 ==1:\n",
    "    print(\"홀수입니다\")"
   ]
  },
  {
   "cell_type": "code",
   "execution_count": 95,
   "id": "0ffadec0-d798-4b1a-b91d-7706d63b05fe",
   "metadata": {},
   "outputs": [
    {
     "name": "stdin",
     "output_type": "stream",
     "text": [
      "정수 입력 : 123\n"
     ]
    },
    {
     "name": "stdout",
     "output_type": "stream",
     "text": [
      "홀수입니다\n"
     ]
    }
   ],
   "source": [
    "number = input(\"정수 입력 :\")\n",
    "number = int(number)\n",
    "\n",
    "if number % 2 ==0:\n",
    "    print(\"짝수입니다\")\n",
    "else:\n",
    "    print(\"홀수입니다\")"
   ]
  },
  {
   "cell_type": "code",
   "execution_count": 96,
   "id": "16eea0b5-9575-4b11-bb58-db389614880f",
   "metadata": {},
   "outputs": [
    {
     "name": "stdout",
     "output_type": "stream",
     "text": [
      "현재는 겨울입니다.\n"
     ]
    }
   ],
   "source": [
    "month = now.month\n",
    "\n",
    "if 3<= month <=5:\n",
    "    print(\"현재는 봄입니다.\")\n",
    "elif 6<= month<=8:\n",
    "    print(\"현재는 여름입니다.\")\n",
    "elif 9<= month<=11:\n",
    "    print(\"현재는 가을입니다\")\n",
    "else:\n",
    "    print(\"현재는 겨울입니다.\")"
   ]
  },
  {
   "cell_type": "code",
   "execution_count": 97,
   "id": "5988fcc7-5e8c-4d42-8b9f-fea514619116",
   "metadata": {},
   "outputs": [
    {
     "name": "stdout",
     "output_type": "stream",
     "text": [
      "# if 조건문에 0넣기\n",
      "0은 False로 변환됩니다.\n",
      "\n",
      "# if 조건문에 빈 문자열 넣기\n",
      "빈 문자열은 False로 변환됩니다.\n"
     ]
    }
   ],
   "source": [
    "print(\"# if 조건문에 0넣기\")\n",
    "if 0:\n",
    "    print(\"0은 True로 변환됩니다.\")\n",
    "else:\n",
    "    print(\"0은 False로 변환됩니다.\")\n",
    "print()\n",
    "\n",
    "print(\"# if 조건문에 빈 문자열 넣기\")\n",
    "if \"\":\n",
    "    print(\"빈 문자열은 True로 변환됩니다.\")\n",
    "else:\n",
    "    print(\"빈 문자열은 False로 변환됩니다.\")"
   ]
  },
  {
   "cell_type": "raw",
   "id": "fd13e5cc-50dd-4e5f-b31c-0c0eefe7c3fb",
   "metadata": {},
   "source": []
  },
  {
   "cell_type": "code",
   "execution_count": 99,
   "id": "1d41c11a-fbc5-4c8a-bb01-2ecf83b69864",
   "metadata": {},
   "outputs": [
    {
     "name": "stdin",
     "output_type": "stream",
     "text": [
      "정수 입력 : 123\n"
     ]
    }
   ],
   "source": [
    "number = input(\"정수 입력 :\")\n",
    "number = int(number)\n",
    "\n",
    "if number >0:\n",
    "    pass\n",
    "else :\n",
    "    pass"
   ]
  },
  {
   "cell_type": "code",
   "execution_count": 101,
   "id": "a06025f7-5637-4e26-8703-75e61d031fe3",
   "metadata": {},
   "outputs": [
    {
     "name": "stdout",
     "output_type": "stream",
     "text": [
      "[273, 32, 103, '문자열', True, False]\n"
     ]
    }
   ],
   "source": [
    "array =[273,32,103,\"문자열\",True,False]\n",
    "print(array)"
   ]
  },
  {
   "cell_type": "code",
   "execution_count": 106,
   "id": "25a920de-2454-4dae-8ea4-5fffbbf73012",
   "metadata": {},
   "outputs": [
    {
     "data": {
      "text/plain": [
       "[273, 32, 103]"
      ]
     },
     "execution_count": 106,
     "metadata": {},
     "output_type": "execute_result"
    }
   ],
   "source": [
    "list_a = [273,32,103,\"문자열\",True,False]\n",
    "list_a[0]\n",
    "\n",
    "list_a[1]\n",
    "\n",
    "list_a[2]\n",
    "\n",
    "list_a[0:3]"
   ]
  },
  {
   "cell_type": "code",
   "execution_count": 110,
   "id": "7340ad74-4f04-4fef-b085-8457e1058f3a",
   "metadata": {},
   "outputs": [
    {
     "data": {
      "text/plain": [
       "False"
      ]
     },
     "execution_count": 110,
     "metadata": {},
     "output_type": "execute_result"
    }
   ],
   "source": [
    "list_a[-1]"
   ]
  },
  {
   "cell_type": "code",
   "execution_count": 108,
   "id": "8042b4b3-8317-4fad-9c7b-0c0e87d8aae4",
   "metadata": {},
   "outputs": [
    {
     "data": {
      "text/plain": [
       "True"
      ]
     },
     "execution_count": 108,
     "metadata": {},
     "output_type": "execute_result"
    }
   ],
   "source": [
    "list_a[-2]\n"
   ]
  },
  {
   "cell_type": "code",
   "execution_count": 109,
   "id": "947d270e-0a0d-453a-86c9-0f87edec685e",
   "metadata": {},
   "outputs": [
    {
     "data": {
      "text/plain": [
       "'문자열'"
      ]
     },
     "execution_count": 109,
     "metadata": {},
     "output_type": "execute_result"
    }
   ],
   "source": [
    "\n",
    "list_a[-3]"
   ]
  },
  {
   "cell_type": "code",
   "execution_count": 111,
   "id": "3d421082-0287-4cc0-9f2a-ed9a1d1d2f61",
   "metadata": {},
   "outputs": [
    {
     "data": {
      "text/plain": [
       "'문'"
      ]
     },
     "execution_count": 111,
     "metadata": {},
     "output_type": "execute_result"
    }
   ],
   "source": [
    "list_a[3][0]"
   ]
  },
  {
   "cell_type": "code",
   "execution_count": 112,
   "id": "ce31add5-ca08-4032-87a6-3e510f4e10c6",
   "metadata": {},
   "outputs": [
    {
     "data": {
      "text/plain": [
       "[4, 5, 6]"
      ]
     },
     "execution_count": 112,
     "metadata": {},
     "output_type": "execute_result"
    }
   ],
   "source": [
    "list_a =[[1,2,3],[4,5,6],[7,8,9]]\n",
    "list_a[1]"
   ]
  },
  {
   "cell_type": "code",
   "execution_count": 113,
   "id": "d3be1c11-88ab-42a6-b9ce-59066638c6cd",
   "metadata": {},
   "outputs": [
    {
     "data": {
      "text/plain": [
       "5"
      ]
     },
     "execution_count": 113,
     "metadata": {},
     "output_type": "execute_result"
    }
   ],
   "source": [
    "list_a[1][1]"
   ]
  },
  {
   "cell_type": "code",
   "execution_count": 114,
   "id": "a623bbf1-3649-4d24-9661-abcb490179b6",
   "metadata": {},
   "outputs": [],
   "source": [
    "list_a =[1,2,3]\n",
    "list_b =[4,5,6]\n"
   ]
  },
  {
   "cell_type": "code",
   "execution_count": 116,
   "id": "bf3fe1ae-b26f-479b-b087-179fa8c1f9b4",
   "metadata": {},
   "outputs": [
    {
     "name": "stdout",
     "output_type": "stream",
     "text": [
      "# 리스트\n",
      "list_a= [1, 2, 3]\n",
      "list_b= [4, 5, 6]\n"
     ]
    }
   ],
   "source": [
    "print(\"# 리스트\")\n",
    "print(\"list_a=\",list_a)\n",
    "print(\"list_b=\",list_b)"
   ]
  },
  {
   "cell_type": "code",
   "execution_count": 121,
   "id": "39969166-c23d-4c8d-a172-56195d0211fc",
   "metadata": {},
   "outputs": [
    {
     "name": "stdout",
     "output_type": "stream",
     "text": [
      "# 리스트 기본 연산자\n",
      "리스트 덧셈 :  [1, 2, 3, 4, 5, 6]\n"
     ]
    }
   ],
   "source": [
    "print(\"# 리스트 기본 연산자\")\n",
    "print(\"리스트 덧셈 : \",list_a+list_b)"
   ]
  },
  {
   "cell_type": "code",
   "execution_count": 123,
   "id": "2ca3da3e-3b34-4f2f-937e-98970997acad",
   "metadata": {},
   "outputs": [
    {
     "name": "stdout",
     "output_type": "stream",
     "text": [
      "리스트 곱셈 :  [1, 2, 3, 1, 2, 3, 1, 2, 3]\n"
     ]
    },
    {
     "ename": "TypeError",
     "evalue": "can only concatenate list (not \"int\") to list",
     "output_type": "error",
     "traceback": [
      "\u001b[1;31m---------------------------------------------------------------------------\u001b[0m",
      "\u001b[1;31mTypeError\u001b[0m                                 Traceback (most recent call last)",
      "Cell \u001b[1;32mIn[123], line 2\u001b[0m\n\u001b[0;32m      1\u001b[0m \u001b[38;5;28mprint\u001b[39m(\u001b[38;5;124m\"\u001b[39m\u001b[38;5;124m리스트 곱셈 : \u001b[39m\u001b[38;5;124m\"\u001b[39m,list_a\u001b[38;5;241m*\u001b[39m\u001b[38;5;241m3\u001b[39m)\n\u001b[1;32m----> 2\u001b[0m \u001b[38;5;28mprint\u001b[39m(\u001b[38;5;124m\"\u001b[39m\u001b[38;5;124mlist_a+3=\u001b[39m\u001b[38;5;124m\"\u001b[39m,list_a\u001b[38;5;241m+\u001b[39m\u001b[38;5;241m3\u001b[39m)\n",
      "\u001b[1;31mTypeError\u001b[0m: can only concatenate list (not \"int\") to list"
     ]
    }
   ],
   "source": [
    "print(\"리스트 곱셈 : \",list_a*3)\n",
    "print(\"list_a+3=\",list_a+3)"
   ]
  },
  {
   "cell_type": "code",
   "execution_count": 122,
   "id": "5e505c8e-71e6-4bc9-8ddf-c1628c5bd689",
   "metadata": {},
   "outputs": [
    {
     "name": "stdout",
     "output_type": "stream",
     "text": [
      "# 길이 구하기\n",
      "리스트 길이 :  3\n"
     ]
    }
   ],
   "source": [
    "print(\"# 길이 구하기\")\n",
    "print(\"리스트 길이 : \",len(list_a))"
   ]
  },
  {
   "cell_type": "code",
   "execution_count": 128,
   "id": "2ff7cbc2-540c-470c-86d2-b51ae4f420aa",
   "metadata": {},
   "outputs": [],
   "source": [
    "list_a=[1,2,3]\n"
   ]
  },
  {
   "cell_type": "code",
   "execution_count": 129,
   "id": "04b98859-6607-4af8-8ee0-257b688a5b44",
   "metadata": {},
   "outputs": [
    {
     "name": "stdout",
     "output_type": "stream",
     "text": [
      "# 리스트 뒤에 요소 추가하기\n",
      "[1, 2, 3, 4, 5]\n",
      "\n"
     ]
    }
   ],
   "source": [
    "#리스트 뒤에 요소 추가하기\n",
    "print(\"# 리스트 뒤에 요소 추가하기\")\n",
    "list_a.append(4)\n",
    "list_a.append(5)\n",
    "print(list_a)\n",
    "print()"
   ]
  },
  {
   "cell_type": "code",
   "execution_count": 130,
   "id": "f1ac46b5-126e-4b0d-89e2-440c3b5c14a7",
   "metadata": {},
   "outputs": [
    {
     "name": "stdout",
     "output_type": "stream",
     "text": [
      "# 리스트 중간에 요소 추가하기\n",
      "[1, 2, 3, 4, 5, 10]\n"
     ]
    }
   ],
   "source": [
    "#리스트 중간에 요소 추가하기\n",
    "print(\"# 리스트 중간에 요소 추가하기\")\n",
    "list_a.insert(5,10)\n",
    "print(list_a)"
   ]
  },
  {
   "cell_type": "code",
   "execution_count": 131,
   "id": "04dd99f8-8f13-429c-9521-ba93f12339fd",
   "metadata": {},
   "outputs": [],
   "source": [
    "list_a =[1,2,3]\n"
   ]
  },
  {
   "cell_type": "code",
   "execution_count": 132,
   "id": "5554179b-1057-4313-a07f-8cfe56e6a0e9",
   "metadata": {},
   "outputs": [
    {
     "name": "stdout",
     "output_type": "stream",
     "text": [
      "[1, 2, 3, 4, 5, 6]\n"
     ]
    }
   ],
   "source": [
    "list_a.extend([4,5,6])\n",
    "print(list_a)"
   ]
  },
  {
   "cell_type": "code",
   "execution_count": 133,
   "id": "32d41f47-9d80-4df9-b047-ff6e4c0d3838",
   "metadata": {},
   "outputs": [
    {
     "name": "stdout",
     "output_type": "stream",
     "text": [
      "# 리스트의 요소 하나 제거하기\n"
     ]
    }
   ],
   "source": [
    "list_a = [0,1,2,3,4,5]\n",
    "print(\"# 리스트의 요소 하나 제거하기\")"
   ]
  },
  {
   "cell_type": "code",
   "execution_count": 134,
   "id": "5a047e84-9299-4386-887d-7b71f93b019a",
   "metadata": {},
   "outputs": [
    {
     "name": "stdout",
     "output_type": "stream",
     "text": [
      "del list_a[1]: [0, 2, 3, 4, 5]\n"
     ]
    }
   ],
   "source": [
    "#제거 방법[1]-del\n",
    "del list_a[1]\n",
    "print(\"del list_a[1]:\",list_a)"
   ]
  },
  {
   "cell_type": "code",
   "execution_count": 135,
   "id": "366752c0-1fa2-47f1-a73e-c962025ccc20",
   "metadata": {},
   "outputs": [
    {
     "name": "stdout",
     "output_type": "stream",
     "text": [
      "pop(2): [0, 2, 4, 5]\n"
     ]
    }
   ],
   "source": [
    "#제거 방법[2]-pop()\n",
    "list_a.pop(2)\n",
    "print(\"pop(2):\",list_a)"
   ]
  },
  {
   "cell_type": "code",
   "execution_count": 136,
   "id": "de9ede2b-511f-49bf-b8fb-9e15b2569e33",
   "metadata": {},
   "outputs": [
    {
     "data": {
      "text/plain": [
       "[1, 1, 2]"
      ]
     },
     "execution_count": 136,
     "metadata": {},
     "output_type": "execute_result"
    }
   ],
   "source": [
    "list_c = [1,2,1,2]\n",
    "list_c.remove(2)\n",
    "list_c"
   ]
  },
  {
   "cell_type": "code",
   "execution_count": 137,
   "id": "4ff0079a-3ad7-42fd-baad-a12bcdde3907",
   "metadata": {},
   "outputs": [],
   "source": [
    "list_a = [273,32,103,57,52]"
   ]
  },
  {
   "cell_type": "code",
   "execution_count": 138,
   "id": "bd85afef-5aae-4e9e-b17a-448279b8d941",
   "metadata": {},
   "outputs": [
    {
     "data": {
      "text/plain": [
       "True"
      ]
     },
     "execution_count": 138,
     "metadata": {},
     "output_type": "execute_result"
    }
   ],
   "source": [
    "273 in list_a"
   ]
  },
  {
   "cell_type": "code",
   "execution_count": 139,
   "id": "38e3238a-994a-4bfd-914d-d95670db692d",
   "metadata": {},
   "outputs": [
    {
     "data": {
      "text/plain": [
       "False"
      ]
     },
     "execution_count": 139,
     "metadata": {},
     "output_type": "execute_result"
    }
   ],
   "source": [
    "99 in list_a"
   ]
  },
  {
   "cell_type": "code",
   "execution_count": 140,
   "id": "95090fee-d7e7-4cdc-b1fc-6bae213eb1e7",
   "metadata": {},
   "outputs": [
    {
     "data": {
      "text/plain": [
       "False"
      ]
     },
     "execution_count": 140,
     "metadata": {},
     "output_type": "execute_result"
    }
   ],
   "source": [
    "100 in list_a"
   ]
  },
  {
   "cell_type": "code",
   "execution_count": 141,
   "id": "3c93f4db-2e3a-4ac0-9a5f-3e3557cb6b97",
   "metadata": {},
   "outputs": [
    {
     "data": {
      "text/plain": [
       "True"
      ]
     },
     "execution_count": 141,
     "metadata": {},
     "output_type": "execute_result"
    }
   ],
   "source": [
    "52 in list_a"
   ]
  },
  {
   "cell_type": "code",
   "execution_count": 142,
   "id": "f30a5595-2f0f-4fb2-9d7f-930484c60cc3",
   "metadata": {},
   "outputs": [
    {
     "data": {
      "text/plain": [
       "False"
      ]
     },
     "execution_count": 142,
     "metadata": {},
     "output_type": "execute_result"
    }
   ],
   "source": [
    "273 not in list_a"
   ]
  },
  {
   "cell_type": "code",
   "execution_count": 143,
   "id": "3d14a01a-c7ec-4dfa-8350-43693fdbd6a7",
   "metadata": {},
   "outputs": [
    {
     "data": {
      "text/plain": [
       "True"
      ]
     },
     "execution_count": 143,
     "metadata": {},
     "output_type": "execute_result"
    }
   ],
   "source": [
    "99 not in list_a"
   ]
  },
  {
   "cell_type": "code",
   "execution_count": 144,
   "id": "71a331a1-a38e-4e0c-a930-bf662295ac49",
   "metadata": {},
   "outputs": [
    {
     "data": {
      "text/plain": [
       "True"
      ]
     },
     "execution_count": 144,
     "metadata": {},
     "output_type": "execute_result"
    }
   ],
   "source": [
    "100 not in list_a"
   ]
  },
  {
   "cell_type": "code",
   "execution_count": 145,
   "id": "781afb6f-8cc7-4817-b30a-db7673eeeec4",
   "metadata": {},
   "outputs": [
    {
     "data": {
      "text/plain": [
       "False"
      ]
     },
     "execution_count": 145,
     "metadata": {},
     "output_type": "execute_result"
    }
   ],
   "source": [
    "52 not in list_a"
   ]
  },
  {
   "cell_type": "code",
   "execution_count": 146,
   "id": "98d9ef93-76c4-42f3-b0bd-d7852d8900e2",
   "metadata": {},
   "outputs": [
    {
     "data": {
      "text/plain": [
       "False"
      ]
     },
     "execution_count": 146,
     "metadata": {},
     "output_type": "execute_result"
    }
   ],
   "source": [
    "not 273 in list_a"
   ]
  },
  {
   "cell_type": "code",
   "execution_count": 2,
   "id": "87685a43-c326-4caf-9f2a-228bb5ccaff9",
   "metadata": {},
   "outputs": [
    {
     "name": "stdout",
     "output_type": "stream",
     "text": [
      "이름\t나이\t지역\n"
     ]
    }
   ],
   "source": [
    "print(\"이름\\t나이\\t지역\")"
   ]
  },
  {
   "cell_type": "code",
   "execution_count": 4,
   "id": "15eb4f6a-5d4e-4b00-884e-d42927e977f3",
   "metadata": {
    "scrolled": true
   },
   "outputs": [
    {
     "name": "stdout",
     "output_type": "stream",
     "text": [
      "출력\n",
      "출력\n",
      "출력\n",
      "출력\n",
      "출력\n",
      "출력\n",
      "출력\n",
      "출력\n",
      "출력\n",
      "출력\n"
     ]
    }
   ],
   "source": [
    "for i in range(10):\n",
    "    print(\"출력\")"
   ]
  },
  {
   "cell_type": "code",
   "execution_count": 6,
   "id": "88e3d6d6-aefc-4a34-b2df-d8b7feae843d",
   "metadata": {},
   "outputs": [
    {
     "name": "stdout",
     "output_type": "stream",
     "text": [
      "273\n",
      "32\n",
      "103\n",
      "57\n",
      "52\n"
     ]
    }
   ],
   "source": [
    "array = [273,32,103,57,52]\n",
    "for element in array:\n",
    "    print(element)"
   ]
  },
  {
   "cell_type": "code",
   "execution_count": 7,
   "id": "c6e00afd-b896-4037-abd4-5f0a15ea773c",
   "metadata": {},
   "outputs": [],
   "source": [
    "dict_a = {\n",
    "    \"name\": \"어벤져스 엔드게임\",\n",
    "    \"type\": \"히어로 무비\"\n",
    "}"
   ]
  },
  {
   "cell_type": "code",
   "execution_count": 9,
   "id": "4833d8bd-10c4-46b7-b7a2-a1ea548d57eb",
   "metadata": {},
   "outputs": [
    {
     "name": "stdout",
     "output_type": "stream",
     "text": [
      "{'name': '어벤져스 엔드게임', 'type': '히어로 무비'}\n"
     ]
    }
   ],
   "source": [
    "print(dict_a)"
   ]
  },
  {
   "cell_type": "code",
   "execution_count": 10,
   "id": "ed8e1720-faf9-48d7-a7ca-a86e7e4ba0d0",
   "metadata": {},
   "outputs": [
    {
     "data": {
      "text/plain": [
       "'어벤져스 엔드게임'"
      ]
     },
     "execution_count": 10,
     "metadata": {},
     "output_type": "execute_result"
    }
   ],
   "source": [
    "dict_a[\"name\"]"
   ]
  },
  {
   "cell_type": "code",
   "execution_count": 11,
   "id": "8147aad8-c6ba-4259-8811-b175de6b07c3",
   "metadata": {},
   "outputs": [
    {
     "data": {
      "text/plain": [
       "'히어로 무비'"
      ]
     },
     "execution_count": 11,
     "metadata": {},
     "output_type": "execute_result"
    }
   ],
   "source": [
    "dict_a[\"type\"]"
   ]
  },
  {
   "cell_type": "code",
   "execution_count": 12,
   "id": "b6e4ad6f-d119-41e4-85e4-d60eb3fee196",
   "metadata": {},
   "outputs": [],
   "source": [
    "dict_b={\n",
    "        \"director\" : [\"안소니 루소\", \"조 루소\"],\n",
    "        \"cast\" : [\"아이언맨\", \"타노스\", \"토르\", \"닥터스트레인지\", \" 헐크\"]\n",
    "}"
   ]
  },
  {
   "cell_type": "code",
   "execution_count": 13,
   "id": "7225bd40-aa6f-4a90-a371-edfcf17c1f92",
   "metadata": {},
   "outputs": [
    {
     "data": {
      "text/plain": [
       "{'director': ['안소니 루소', '조 루소'],\n",
       " 'cast': ['아이언맨', '타노스', '토르', '닥터스트레인지', ' 헐크']}"
      ]
     },
     "execution_count": 13,
     "metadata": {},
     "output_type": "execute_result"
    }
   ],
   "source": [
    "dict_b"
   ]
  },
  {
   "cell_type": "code",
   "execution_count": 14,
   "id": "b1a36ab6-0387-46c9-881d-d718b19b1b5c",
   "metadata": {},
   "outputs": [
    {
     "data": {
      "text/plain": [
       "['안소니 루소', '조 루소']"
      ]
     },
     "execution_count": 14,
     "metadata": {},
     "output_type": "execute_result"
    }
   ],
   "source": [
    "dict_b[\"director\"]"
   ]
  },
  {
   "cell_type": "code",
   "execution_count": 15,
   "id": "cc89fdda-ab0d-4d6d-b3e4-30bcc48a0914",
   "metadata": {},
   "outputs": [
    {
     "name": "stdout",
     "output_type": "stream",
     "text": [
      "토르\n"
     ]
    }
   ],
   "source": [
    "print(dict_b[\"cast\"][2])"
   ]
  },
  {
   "cell_type": "code",
   "execution_count": 16,
   "id": "ba70a0d6-9e7c-4466-9040-4dd622040301",
   "metadata": {},
   "outputs": [
    {
     "data": {
      "text/plain": [
       "{'이름': '7D 건조 망고', type: '당절임'}"
      ]
     },
     "execution_count": 16,
     "metadata": {},
     "output_type": "execute_result"
    }
   ],
   "source": [
    "name =\"이름\"\n",
    "dict_key = {\n",
    "    name : \"7D 건조 망고\",\n",
    "    type : \"당절임\"\n",
    "}\n",
    "dict_key"
   ]
  },
  {
   "cell_type": "code",
   "execution_count": 35,
   "id": "7960280b-ad39-415e-93d6-594e6c6ae314",
   "metadata": {},
   "outputs": [],
   "source": [
    "dictionary = {\n",
    "    \"name\" : \"7D 건조 망고\",\n",
    "    \"type\" : \"당절임\",\n",
    "    \"ingredient\": [\"망고\", \"설탕\", \"메타중아황산나트륨\", \"치자황색소\"],\n",
    "    \"origin\" : \"필리핀\"\n",
    "}\n"
   ]
  },
  {
   "cell_type": "code",
   "execution_count": 24,
   "id": "81511bdf-2a94-48b0-906b-3f98cf2fbf74",
   "metadata": {},
   "outputs": [],
   "source": [
    "dictionary[\"price\"] = 5000"
   ]
  },
  {
   "cell_type": "code",
   "execution_count": 25,
   "id": "7eafd175-005c-47e4-897e-60c7314f5e42",
   "metadata": {},
   "outputs": [
    {
     "data": {
      "text/plain": [
       "{'name': '7D 건조 망고',\n",
       " 'type': '당절임',\n",
       " 'ingredient': ['망고', '설탕', '메타중아황산나트륨', '치자황색소'],\n",
       " 'origin': '필리핀',\n",
       " 'price': 5000}"
      ]
     },
     "execution_count": 25,
     "metadata": {},
     "output_type": "execute_result"
    }
   ],
   "source": [
    "dictionary"
   ]
  },
  {
   "cell_type": "code",
   "execution_count": 26,
   "id": "167d82df-3f09-4940-8424-275dfb97e186",
   "metadata": {},
   "outputs": [],
   "source": [
    "del dictionary[\"ingredient\"]"
   ]
  },
  {
   "cell_type": "code",
   "execution_count": 27,
   "id": "3a7f72a4-14df-4e96-a9cc-e4ea93c493ab",
   "metadata": {},
   "outputs": [
    {
     "data": {
      "text/plain": [
       "{'name': '7D 건조 망고', 'type': '당절임', 'origin': '필리핀', 'price': 5000}"
      ]
     },
     "execution_count": 27,
     "metadata": {},
     "output_type": "execute_result"
    }
   ],
   "source": [
    "dictionary"
   ]
  },
  {
   "cell_type": "code",
   "execution_count": 28,
   "id": "253ab4ad-6094-463e-b898-275f87ffa360",
   "metadata": {},
   "outputs": [],
   "source": [
    "dictionary ={}"
   ]
  },
  {
   "cell_type": "code",
   "execution_count": 29,
   "id": "636de75b-22b4-4e21-bcf5-c5cdaf06fb27",
   "metadata": {},
   "outputs": [
    {
     "name": "stdout",
     "output_type": "stream",
     "text": [
      "요소 추가 이전 :  {}\n"
     ]
    }
   ],
   "source": [
    "print(\"요소 추가 이전 : \", dictionary)"
   ]
  },
  {
   "cell_type": "code",
   "execution_count": 31,
   "id": "f70a211a-6cee-428b-ac1d-837c5888d496",
   "metadata": {},
   "outputs": [],
   "source": [
    "dictionary[\"name\"] = \"새로운 이름\"\n",
    "dictionary[\"head\"] = \"새로운 정신\"\n",
    "dictionary[\"body\"] = \"새로운 몸\""
   ]
  },
  {
   "cell_type": "code",
   "execution_count": 32,
   "id": "40c81ccf-55e5-4a10-8baf-8f4bb4d78cf8",
   "metadata": {},
   "outputs": [
    {
     "name": "stdout",
     "output_type": "stream",
     "text": [
      "요소 추가 이후 :  {'name': '새로운 이름', 'head': '새로운 정신', 'body': '새로운 몸'}\n"
     ]
    }
   ],
   "source": [
    "print(\"요소 추가 이후 : \",dictionary)"
   ]
  },
  {
   "cell_type": "code",
   "execution_count": 33,
   "id": "c5dde80d-af5a-4087-aad2-460c10f13bc3",
   "metadata": {},
   "outputs": [
    {
     "ename": "KeyError",
     "evalue": "'Key'",
     "output_type": "error",
     "traceback": [
      "\u001b[1;31m---------------------------------------------------------------------------\u001b[0m",
      "\u001b[1;31mKeyError\u001b[0m                                  Traceback (most recent call last)",
      "Cell \u001b[1;32mIn[33], line 2\u001b[0m\n\u001b[0;32m      1\u001b[0m dictionary \u001b[38;5;241m=\u001b[39m{}\n\u001b[1;32m----> 2\u001b[0m dictionary[\u001b[38;5;124m\"\u001b[39m\u001b[38;5;124mKey\u001b[39m\u001b[38;5;124m\"\u001b[39m]\n",
      "\u001b[1;31mKeyError\u001b[0m: 'Key'"
     ]
    }
   ],
   "source": [
    "dictionary ={}\n",
    "dictionary[\"Key\"]"
   ]
  },
  {
   "cell_type": "code",
   "execution_count": 34,
   "id": "e4f3031f-58cc-42d7-9837-281b0f3d5c91",
   "metadata": {},
   "outputs": [
    {
     "ename": "KeyError",
     "evalue": "'Key'",
     "output_type": "error",
     "traceback": [
      "\u001b[1;31m---------------------------------------------------------------------------\u001b[0m",
      "\u001b[1;31mKeyError\u001b[0m                                  Traceback (most recent call last)",
      "Cell \u001b[1;32mIn[34], line 1\u001b[0m\n\u001b[1;32m----> 1\u001b[0m \u001b[38;5;28;01mdel\u001b[39;00m dictionary[\u001b[38;5;124m\"\u001b[39m\u001b[38;5;124mKey\u001b[39m\u001b[38;5;124m\"\u001b[39m]\n",
      "\u001b[1;31mKeyError\u001b[0m: 'Key'"
     ]
    }
   ],
   "source": [
    "del dictionary[\"Key\"]"
   ]
  },
  {
   "cell_type": "code",
   "execution_count": 37,
   "id": "ba9b1f7f-8550-4bf7-9a19-ce04e1fe278d",
   "metadata": {},
   "outputs": [
    {
     "name": "stdin",
     "output_type": "stream",
     "text": [
      ">접근하고자 하는 키 :  name\n"
     ]
    }
   ],
   "source": [
    "key = input(\">접근하고자 하는 키 : \")"
   ]
  },
  {
   "cell_type": "code",
   "execution_count": 38,
   "id": "20841953-4864-4d20-980c-aba90a3ae66c",
   "metadata": {},
   "outputs": [
    {
     "name": "stdout",
     "output_type": "stream",
     "text": [
      "7D 건조 망고\n"
     ]
    }
   ],
   "source": [
    "#출력합니다.\n",
    "if key in dictionary:\n",
    "    print(dictionary[key])\n",
    "else:\n",
    "    print(\"존재하지 않는 키에 접근하고 있습니다.\")"
   ]
  },
  {
   "cell_type": "code",
   "execution_count": 39,
   "id": "9c194743-e824-4d92-a233-1888712d7955",
   "metadata": {},
   "outputs": [
    {
     "name": "stdout",
     "output_type": "stream",
     "text": [
      "값 :  None\n"
     ]
    }
   ],
   "source": [
    "value = dictionary.get(\"존재하지 않는 키\")\n",
    "print(\"값 : \",value)"
   ]
  },
  {
   "cell_type": "code",
   "execution_count": 40,
   "id": "e4095b92-3a64-43f3-84dc-c32e5a03b9d1",
   "metadata": {},
   "outputs": [
    {
     "name": "stdout",
     "output_type": "stream",
     "text": [
      "존재하지 않는 키에 접근했었습니다.\n"
     ]
    }
   ],
   "source": [
    "#NONE 확인 방법\n",
    "if value == None:\n",
    "    print(\"존재하지 않는 키에 접근했었습니다.\")"
   ]
  },
  {
   "cell_type": "code",
   "execution_count": 41,
   "id": "ea652cf9-87a4-4969-81da-c7bea94ee33a",
   "metadata": {},
   "outputs": [
    {
     "name": "stdout",
     "output_type": "stream",
     "text": [
      "name : 7D 건조 망고\n",
      "type : 당절임\n",
      "ingredient : ['망고', '설탕', '메타중아황산나트륨', '치자황색소']\n",
      "origin : 필리핀\n"
     ]
    }
   ],
   "source": [
    "for key in dictionary:\n",
    "    #출력합니다.\n",
    "    print(key, \":\", dictionary[key])"
   ]
  },
  {
   "cell_type": "code",
   "execution_count": 42,
   "id": "7508842a-1ea2-40b2-b2ac-35efe57aeb6b",
   "metadata": {},
   "outputs": [
    {
     "data": {
      "text/plain": [
       "{'kkk': [100, 2, 3, 1000, 4, 5, 10000]}"
      ]
     },
     "execution_count": 42,
     "metadata": {},
     "output_type": "execute_result"
    }
   ],
   "source": [
    "dic = {\"kkk\":[1,2,3,4,5]}\n",
    "dic[\"kkk\"][0]=100\n",
    "dic[\"kkk\"].insert(3,1000)\n",
    "dic[\"kkk\"].append(10000)\n",
    "dic"
   ]
  },
  {
   "cell_type": "code",
   "execution_count": 43,
   "id": "7f679347-305f-4bc8-9323-863611cfd08e",
   "metadata": {},
   "outputs": [],
   "source": [
    "a= range(5)"
   ]
  },
  {
   "cell_type": "code",
   "execution_count": 44,
   "id": "53c9ddee-ef39-4ac7-82eb-551984d2821d",
   "metadata": {},
   "outputs": [
    {
     "data": {
      "text/plain": [
       "range(0, 5)"
      ]
     },
     "execution_count": 44,
     "metadata": {},
     "output_type": "execute_result"
    }
   ],
   "source": [
    "a"
   ]
  },
  {
   "cell_type": "code",
   "execution_count": 45,
   "id": "2b945b38-69fd-48e7-8ed3-95af3a5bcf6f",
   "metadata": {},
   "outputs": [
    {
     "data": {
      "text/plain": [
       "[0, 1, 2, 3, 4, 5, 6, 7, 8, 9]"
      ]
     },
     "execution_count": 45,
     "metadata": {},
     "output_type": "execute_result"
    }
   ],
   "source": [
    "list(range(10))"
   ]
  },
  {
   "cell_type": "code",
   "execution_count": 46,
   "id": "db5cc0dd-809e-4c72-a5c5-7eeffa226b49",
   "metadata": {},
   "outputs": [
    {
     "data": {
      "text/plain": [
       "[0, 1, 2, 3, 4]"
      ]
     },
     "execution_count": 46,
     "metadata": {},
     "output_type": "execute_result"
    }
   ],
   "source": [
    "list(range(0, 5))"
   ]
  },
  {
   "cell_type": "code",
   "execution_count": 47,
   "id": "96c0060d-9349-44c7-8b06-73a2abc416e3",
   "metadata": {},
   "outputs": [
    {
     "data": {
      "text/plain": [
       "[5, 6, 7, 8, 9]"
      ]
     },
     "execution_count": 47,
     "metadata": {},
     "output_type": "execute_result"
    }
   ],
   "source": [
    "list(range(5,10))"
   ]
  },
  {
   "cell_type": "code",
   "execution_count": 49,
   "id": "608745a4-fb43-4923-92c3-a753e2a6b46c",
   "metadata": {},
   "outputs": [
    {
     "data": {
      "text/plain": [
       "[0, 2, 4, 6, 8]"
      ]
     },
     "execution_count": 49,
     "metadata": {},
     "output_type": "execute_result"
    }
   ],
   "source": [
    "list(range(0,10,2))"
   ]
  },
  {
   "cell_type": "code",
   "execution_count": 50,
   "id": "4d9ad72a-c24f-4ca5-b0e1-baa376ce07de",
   "metadata": {},
   "outputs": [
    {
     "data": {
      "text/plain": [
       "[0, 3, 6, 9]"
      ]
     },
     "execution_count": 50,
     "metadata": {},
     "output_type": "execute_result"
    }
   ],
   "source": [
    "list(range(0,10,3))"
   ]
  },
  {
   "cell_type": "code",
   "execution_count": 59,
   "id": "150f6ebe-42ba-4eb3-b3a3-69c7d9c84314",
   "metadata": {},
   "outputs": [
    {
     "data": {
      "text/plain": [
       "[0, 1, 2, 3, 4]"
      ]
     },
     "execution_count": 59,
     "metadata": {},
     "output_type": "execute_result"
    }
   ],
   "source": [
    "aa= range(0,int(9/2))\n",
    "list(a)"
   ]
  },
  {
   "cell_type": "code",
   "execution_count": 58,
   "id": "e8866b8f-c501-461f-aa05-cd170f6ef7ee",
   "metadata": {},
   "outputs": [
    {
     "data": {
      "text/plain": [
       "[0, 1, 2, 3]"
      ]
     },
     "execution_count": 58,
     "metadata": {},
     "output_type": "execute_result"
    }
   ],
   "source": [
    "aa = range(0, 9//2)\n",
    "list(aa)"
   ]
  },
  {
   "cell_type": "code",
   "execution_count": 60,
   "id": "03332739-9df2-4efc-bb94-491607f54895",
   "metadata": {},
   "outputs": [
    {
     "name": "stdout",
     "output_type": "stream",
     "text": [
      "0=반복 변수\n",
      "1=반복 변수\n",
      "2=반복 변수\n",
      "3=반복 변수\n",
      "4=반복 변수\n",
      "\n"
     ]
    }
   ],
   "source": [
    "for i in range(5):\n",
    "    print(str(i) +\"=반복 변수\")\n",
    "print()"
   ]
  },
  {
   "cell_type": "code",
   "execution_count": 62,
   "id": "df4db91d-313d-4542-b843-87af3778824b",
   "metadata": {},
   "outputs": [
    {
     "name": "stdout",
     "output_type": "stream",
     "text": [
      "5=반복 변수\n",
      "6=반복 변수\n",
      "7=반복 변수\n",
      "8=반복 변수\n",
      "9=반복 변수\n",
      "\n"
     ]
    }
   ],
   "source": [
    "for i in range(5,10):\n",
    "    print(str(i)+\"=반복 변수\")\n",
    "print()"
   ]
  },
  {
   "cell_type": "code",
   "execution_count": 63,
   "id": "ee558502-6957-44e9-a6a8-bb5ae44a0cb5",
   "metadata": {},
   "outputs": [
    {
     "name": "stdout",
     "output_type": "stream",
     "text": [
      "0=반복 변수\n",
      "3=반복 변수\n",
      "6=반복 변수\n",
      "9=반복 변수\n",
      "\n"
     ]
    }
   ],
   "source": [
    "for i in range(0,10,3):\n",
    "    print(str(i)+\"=반복 변수\")\n",
    "print()"
   ]
  },
  {
   "cell_type": "code",
   "execution_count": 64,
   "id": "83284f4a-4acb-4152-8fc1-3256eea005ad",
   "metadata": {},
   "outputs": [],
   "source": [
    "array = [273, 32 ,103,57,52]"
   ]
  },
  {
   "cell_type": "code",
   "execution_count": 65,
   "id": "f9044e15-ea4f-4f3b-8772-c2697cc91f74",
   "metadata": {},
   "outputs": [
    {
     "name": "stdout",
     "output_type": "stream",
     "text": [
      "0번째 반복 : 273\n",
      "1번째 반복 : 32\n",
      "2번째 반복 : 103\n",
      "3번째 반복 : 57\n",
      "4번째 반복 : 52\n"
     ]
    }
   ],
   "source": [
    "for i in range(len(array)):\n",
    "    #출력합니다.\n",
    "    print(\"{}번째 반복 : {}\".format(i, array[i]))"
   ]
  },
  {
   "cell_type": "code",
   "execution_count": 68,
   "id": "0a978a61-207e-421f-8189-b052702199fb",
   "metadata": {},
   "outputs": [
    {
     "name": "stdout",
     "output_type": "stream",
     "text": [
      "현재 반복 변수 : 4\n",
      "현재 반복 변수 : 3\n",
      "현재 반복 변수 : 2\n",
      "현재 반복 변수 : 1\n",
      "현재 반복 변수 : 0\n"
     ]
    }
   ],
   "source": [
    "for i in range(4,0-1,-1):\n",
    "    print(\"현재 반복 변수 : {}\".format(i))"
   ]
  },
  {
   "cell_type": "code",
   "execution_count": 69,
   "id": "4c8f3347-7474-42a0-95b4-577bbefdb9de",
   "metadata": {},
   "outputs": [
    {
     "name": "stdout",
     "output_type": "stream",
     "text": [
      "현재 반복 변수 : 4\n",
      "현재 반복 변수 : 3\n",
      "현재 반복 변수 : 2\n",
      "현재 반복 변수 : 1\n",
      "현재 반복 변수 : 0\n"
     ]
    }
   ],
   "source": [
    "for i  in reversed(range(5)):\n",
    "    print(\"현재 반복 변수 : {}\".format(i))"
   ]
  },
  {
   "cell_type": "code",
   "execution_count": 70,
   "id": "7bebc954-7044-4ef9-b2b3-9554bbe113f1",
   "metadata": {},
   "outputs": [
    {
     "name": "stdout",
     "output_type": "stream",
     "text": [
      "0번째 반복입니다.\n",
      "1번째 반복입니다.\n",
      "2번째 반복입니다.\n",
      "3번째 반복입니다.\n",
      "4번째 반복입니다.\n",
      "5번째 반복입니다.\n",
      "6번째 반복입니다.\n",
      "7번째 반복입니다.\n",
      "8번째 반복입니다.\n",
      "9번째 반복입니다.\n"
     ]
    }
   ],
   "source": [
    "i=0\n",
    "while i<10:\n",
    "    print(\"{}번째 반복입니다.\".format(i))\n",
    "    i+=1"
   ]
  },
  {
   "cell_type": "code",
   "execution_count": 71,
   "id": "7b609130-a7ab-4810-9011-11992a4ad94f",
   "metadata": {},
   "outputs": [
    {
     "name": "stdout",
     "output_type": "stream",
     "text": [
      "[1, 1]\n"
     ]
    }
   ],
   "source": [
    "list_test=[1,2,1,2]\n",
    "value=2\n",
    "\n",
    "while value in list_test:\n",
    "    list_test.remove(value)\n",
    "\n",
    "print(list_test)"
   ]
  },
  {
   "cell_type": "code",
   "execution_count": 72,
   "id": "43b1dfe5-ed62-4178-8640-b08481359622",
   "metadata": {},
   "outputs": [
    {
     "name": "stdout",
     "output_type": "stream",
     "text": [
      "5초 동안 31480724번 반복했습니다.\n"
     ]
    }
   ],
   "source": [
    "import time\n",
    "\n",
    "number =0\n",
    "\n",
    "target_tick = time.time()+5\n",
    "while time.time()<target_tick:\n",
    "    number+=1\n",
    "\n",
    "#출력합니다.\n",
    "print(\"5초 동안 {}번 반복했습니다.\".format(number))"
   ]
  },
  {
   "cell_type": "code",
   "execution_count": 73,
   "id": "91332eac-cea8-41bd-ad85-ff2024e22b4f",
   "metadata": {},
   "outputs": [
    {
     "name": "stdout",
     "output_type": "stream",
     "text": [
      "10번째 반복문입니다.\n"
     ]
    },
    {
     "name": "stdin",
     "output_type": "stream",
     "text": [
      ">종료하시겠습니까?(y):  q\n"
     ]
    },
    {
     "name": "stdout",
     "output_type": "stream",
     "text": [
      "11번째 반복문입니다.\n"
     ]
    },
    {
     "name": "stdin",
     "output_type": "stream",
     "text": [
      ">종료하시겠습니까?(y):  q\n"
     ]
    },
    {
     "name": "stdout",
     "output_type": "stream",
     "text": [
      "12번째 반복문입니다.\n"
     ]
    },
    {
     "name": "stdin",
     "output_type": "stream",
     "text": [
      ">종료하시겠습니까?(y):  q\n"
     ]
    },
    {
     "name": "stdout",
     "output_type": "stream",
     "text": [
      "13번째 반복문입니다.\n"
     ]
    },
    {
     "name": "stdin",
     "output_type": "stream",
     "text": [
      ">종료하시겠습니까?(y):  q\n"
     ]
    },
    {
     "name": "stdout",
     "output_type": "stream",
     "text": [
      "14번째 반복문입니다.\n"
     ]
    },
    {
     "name": "stdin",
     "output_type": "stream",
     "text": [
      ">종료하시겠습니까?(y):  q\n"
     ]
    },
    {
     "name": "stdout",
     "output_type": "stream",
     "text": [
      "15번째 반복문입니다.\n"
     ]
    },
    {
     "name": "stdin",
     "output_type": "stream",
     "text": [
      ">종료하시겠습니까?(y):  q\n"
     ]
    },
    {
     "name": "stdout",
     "output_type": "stream",
     "text": [
      "16번째 반복문입니다.\n"
     ]
    },
    {
     "name": "stdin",
     "output_type": "stream",
     "text": [
      ">종료하시겠습니까?(y):  q\n"
     ]
    },
    {
     "name": "stdout",
     "output_type": "stream",
     "text": [
      "17번째 반복문입니다.\n"
     ]
    },
    {
     "name": "stdin",
     "output_type": "stream",
     "text": [
      ">종료하시겠습니까?(y):  q\n"
     ]
    },
    {
     "name": "stdout",
     "output_type": "stream",
     "text": [
      "18번째 반복문입니다.\n"
     ]
    },
    {
     "name": "stdin",
     "output_type": "stream",
     "text": [
      ">종료하시겠습니까?(y):  y\n"
     ]
    },
    {
     "name": "stdout",
     "output_type": "stream",
     "text": [
      "반복을 종료합니다.\n"
     ]
    }
   ],
   "source": [
    "while True:\n",
    "    print(\"{}번째 반복문입니다.\".format(i))\n",
    "    i=i+1\n",
    "    \n",
    "    input_text = input(\">종료하시겠습니까?(y): \")\n",
    "    if input_text in [\"y\",\"Y\"]:\n",
    "        print(\"반복을 종료합니다.\")\n",
    "        break\n",
    "    "
   ]
  },
  {
   "cell_type": "code",
   "execution_count": 74,
   "id": "31f5a790-0e42-4018-878d-edac4e45ce11",
   "metadata": {},
   "outputs": [
    {
     "name": "stdout",
     "output_type": "stream",
     "text": [
      "15\n",
      "20\n",
      "25\n"
     ]
    }
   ],
   "source": [
    "numbers = [5,15,6,20,7,25]\n",
    "\n",
    "for number in numbers:\n",
    "\n",
    "    if number<10:\n",
    "        continue\n",
    "    print(number)"
   ]
  },
  {
   "cell_type": "code",
   "execution_count": 75,
   "id": "c62c5a97-5518-4f9b-bc35-4fd6a4a5e28f",
   "metadata": {},
   "outputs": [
    {
     "data": {
      "text/plain": [
       "32"
      ]
     },
     "execution_count": 75,
     "metadata": {},
     "output_type": "execute_result"
    }
   ],
   "source": [
    "numbers=[103,52,273,32,77]\n",
    "min(numbers)"
   ]
  },
  {
   "cell_type": "code",
   "execution_count": 76,
   "id": "82fb387c-eff0-498c-90b6-7c1067a1807e",
   "metadata": {},
   "outputs": [
    {
     "data": {
      "text/plain": [
       "273"
      ]
     },
     "execution_count": 76,
     "metadata": {},
     "output_type": "execute_result"
    }
   ],
   "source": [
    "max(numbers)"
   ]
  },
  {
   "cell_type": "code",
   "execution_count": 77,
   "id": "2606d9d8-332f-4f44-89d5-26f06948824c",
   "metadata": {},
   "outputs": [
    {
     "data": {
      "text/plain": [
       "537"
      ]
     },
     "execution_count": 77,
     "metadata": {},
     "output_type": "execute_result"
    }
   ],
   "source": [
    "sum(numbers)"
   ]
  },
  {
   "cell_type": "code",
   "execution_count": 80,
   "id": "e6b4b094-c9f4-44be-984b-40237f818504",
   "metadata": {},
   "outputs": [
    {
     "name": "stdout",
     "output_type": "stream",
     "text": [
      "# reversed() 함수\n",
      "reversed([1,2,3,4,5]): <list_reverseiterator object at 0x00000206615C3C10>\n",
      "\n",
      "# reversed() 함수와 반복문\n",
      "for i in reversed([1,2,3,4,5]):\n",
      "- 5\n",
      "- 4\n",
      "- 3\n",
      "- 2\n",
      "- 1\n"
     ]
    }
   ],
   "source": [
    "list_a = [1,2,3,4,5]\n",
    "list_reversed = reversed(list_a)\n",
    "\n",
    "#출력합니다\n",
    "print(\"# reversed() 함수\")\n",
    "print(\"reversed([1,2,3,4,5]):\",list_reversed)\n",
    "print()\n",
    "\n",
    "# 반복문을 적용해 봅니다.\n",
    "print(\"# reversed() 함수와 반복문\")\n",
    "print(\"for i in reversed([1,2,3,4,5]):\")\n",
    "for i in reversed(list_a):\n",
    "    print(\"-\",i)"
   ]
  },
  {
   "cell_type": "code",
   "execution_count": 82,
   "id": "b574623b-37f0-470a-8701-3fe2b7443cf9",
   "metadata": {},
   "outputs": [
    {
     "name": "stdout",
     "output_type": "stream",
     "text": [
      "첫 번째 반복문 : 6\n",
      "첫 번째 반복문 : 5\n",
      "첫 번째 반복문 : 4\n",
      "첫 번째 반복문 : 3\n",
      "첫 번째 반복문 : 2\n",
      "첫 번째 반복문 : 1\n",
      "두 번째 반복문 : 6\n",
      "두 번째 반복문 : 5\n",
      "두 번째 반복문 : 4\n",
      "두 번째 반복문 : 3\n",
      "두 번째 반복문 : 2\n",
      "두 번째 반복문 : 1\n"
     ]
    }
   ],
   "source": [
    "temp = reversed([1,2,3,4,5,6])\n",
    "\n",
    "for i in temp:\n",
    "    print(\"첫 번째 반복문 : {}\".format(i))\n",
    "\n",
    "temp = reversed([1,2,3,4,5,6])\n",
    "for i in temp:\n",
    "    print(\"두 번째 반복문 : {}\".format(i))"
   ]
  },
  {
   "cell_type": "code",
   "execution_count": 83,
   "id": "72747b53-950c-49d4-8cce-7f732d73f89b",
   "metadata": {},
   "outputs": [],
   "source": [
    "example_list = [\"요소A\",\"요소B\",\"요소C\"]\n"
   ]
  },
  {
   "cell_type": "code",
   "execution_count": 84,
   "id": "7012dde8-b3f1-49ed-9900-1954ae18134c",
   "metadata": {},
   "outputs": [
    {
     "name": "stdout",
     "output_type": "stream",
     "text": [
      "# 단순 출력\n",
      "['요소A', '요소B', '요소C']\n",
      "\n"
     ]
    }
   ],
   "source": [
    "print(\"# 단순 출력\")\n",
    "print(example_list)\n",
    "print()"
   ]
  },
  {
   "cell_type": "code",
   "execution_count": 87,
   "id": "7769e9e1-80d9-446f-b42f-fc06fdcf0c4b",
   "metadata": {},
   "outputs": [
    {
     "name": "stdout",
     "output_type": "stream",
     "text": [
      "# enumberate() 함수 적용출력\n",
      "<enumerate object at 0x00000206621E51C0>\n"
     ]
    }
   ],
   "source": [
    "#enumrate() 함수를 적용해 출력합니다.\n",
    "print(\"# enumberate() 함수 적용출력\")\n",
    "print(enumerate(example_list))"
   ]
  },
  {
   "cell_type": "code",
   "execution_count": 89,
   "id": "f6d39ec5-5816-4ee2-81eb-22a9419dac79",
   "metadata": {},
   "outputs": [
    {
     "name": "stdout",
     "output_type": "stream",
     "text": [
      "# list()함수로 강제 변환 출력\n",
      "[(0, '요소A'), (1, '요소B'), (2, '요소C')]\n",
      "\n"
     ]
    }
   ],
   "source": [
    "print(\"# list()함수로 강제 변환 출력\")\n",
    "print(list(enumerate(example_list)))\n",
    "print()"
   ]
  },
  {
   "cell_type": "code",
   "execution_count": 92,
   "id": "dd526f99-5e90-4bf4-be6b-e70b645105d7",
   "metadata": {},
   "outputs": [
    {
     "name": "stdout",
     "output_type": "stream",
     "text": [
      "# 반복문과 조합하기\n",
      "0번째 요소는 요소A입니다.\n",
      "1번째 요소는 요소B입니다.\n",
      "2번째 요소는 요소C입니다.\n"
     ]
    }
   ],
   "source": [
    "# for 반복문과 enumerate() 함수 조합해서 사용하기\n",
    "print(\"# 반복문과 조합하기\")\n",
    "for i , value in enumerate(example_list):\n",
    "    print(\"{}번째 요소는 {}입니다.\".format(i, value))"
   ]
  },
  {
   "cell_type": "code",
   "execution_count": 93,
   "id": "9c9134f8-06bd-4786-b905-6cfbd2be4999",
   "metadata": {},
   "outputs": [],
   "source": [
    "#변수를 선언합니다.\n",
    "example_dictionary ={\n",
    "    \"키A\":\"값A\",\n",
    "    \"키B\" : \"값B\",\n",
    "    \"키C\" : \"값C\",\n",
    "}"
   ]
  },
  {
   "cell_type": "code",
   "execution_count": 94,
   "id": "25af40b9-3a21-491c-ae14-205a61a16f90",
   "metadata": {},
   "outputs": [
    {
     "name": "stdout",
     "output_type": "stream",
     "text": [
      "# 딕셔너리의 items()함수\n",
      "items(): dict_items([('키A', '값A'), ('키B', '값B'), ('키C', '값C')])\n",
      "\n"
     ]
    }
   ],
   "source": [
    "# 딕셔너리의 items()함수 결과 출력하기\n",
    "print(\"# 딕셔너리의 items()함수\")\n",
    "print(\"items():\",example_dictionary.items())\n",
    "print()"
   ]
  },
  {
   "cell_type": "code",
   "execution_count": 95,
   "id": "7bbeab06-960d-4490-b945-ba8515fbc07c",
   "metadata": {},
   "outputs": [
    {
     "name": "stdout",
     "output_type": "stream",
     "text": [
      "# 딕셔너리의 items() 함수와 반복문 조합하기\n",
      "dictionary[키A]=값A\n",
      "dictionary[키B]=값B\n",
      "dictionary[키C]=값C\n"
     ]
    }
   ],
   "source": [
    "#for 반복문과 items() 함수 조합해서 사용하기\n",
    "print(\"# 딕셔너리의 items() 함수와 반복문 조합하기\")\n",
    "\n",
    "for key, element in example_dictionary.items():\n",
    "    print(\"dictionary[{}]={}\".format(key,element))"
   ]
  },
  {
   "cell_type": "code",
   "execution_count": 96,
   "id": "48e31bd4-f3b8-4e38-a1a5-3b3efcbd3513",
   "metadata": {},
   "outputs": [],
   "source": [
    "# 변수를 선언합니다.\n",
    "array=[]\n"
   ]
  },
  {
   "cell_type": "code",
   "execution_count": 97,
   "id": "4d23ce94-231d-47ea-ba48-4858c75d454f",
   "metadata": {},
   "outputs": [],
   "source": [
    "# 반복문을 적용합니다.\n",
    "for i in range(0,20,2):\n",
    "    array.append(i*i)\n",
    "    "
   ]
  },
  {
   "cell_type": "code",
   "execution_count": 98,
   "id": "f29a53cf-d9ab-44d0-b226-43a9bab26662",
   "metadata": {},
   "outputs": [
    {
     "name": "stdout",
     "output_type": "stream",
     "text": [
      "[0, 4, 16, 36, 64, 100, 144, 196, 256, 324]\n"
     ]
    }
   ],
   "source": [
    "#출력\n",
    "print(array)"
   ]
  },
  {
   "cell_type": "code",
   "execution_count": 99,
   "id": "d09d55b2-4010-4e10-8c97-a785312b67cf",
   "metadata": {},
   "outputs": [
    {
     "name": "stdout",
     "output_type": "stream",
     "text": [
      "[0, 4, 16, 36, 64, 100, 144, 196, 256, 324]\n"
     ]
    }
   ],
   "source": [
    "array = [i * i for i in range(0,20,2)]\n",
    "print(array)"
   ]
  },
  {
   "cell_type": "code",
   "execution_count": 100,
   "id": "d90b0ba3-0a13-4747-8bb1-3ddba300d9d9",
   "metadata": {},
   "outputs": [
    {
     "name": "stdout",
     "output_type": "stream",
     "text": [
      "['사과', '자두', '바나나', '체리']\n"
     ]
    }
   ],
   "source": [
    "# comprehension\n",
    "array = [\"사과\", \"자두\",\"초콜릿\",\"바나나\",\"체리\"]\n",
    "output = [fruit for fruit in array if fruit !=\"초콜릿\"]\n",
    "\n",
    "print(output)"
   ]
  },
  {
   "cell_type": "code",
   "execution_count": 102,
   "id": "e67f873a-0cb2-4a59-a2f0-3723904ebef0",
   "metadata": {},
   "outputs": [
    {
     "name": "stdout",
     "output_type": "stream",
     "text": [
      "['사과', '자두', '바나나', '체리']\n"
     ]
    }
   ],
   "source": [
    "# 위에 코드를 풀어쓴 것\n",
    "output =[]\n",
    "for fruit in array:\n",
    "    if fruit != \"초콜릿\":\n",
    "        output.append(fruit)\n",
    "print(output)"
   ]
  },
  {
   "cell_type": "code",
   "execution_count": 103,
   "id": "ac6ba2f4-1118-4562-be0e-19b9d278b094",
   "metadata": {},
   "outputs": [
    {
     "name": "stdout",
     "output_type": "stream",
     "text": [
      "[0, 2, 4, 6, 8]\n"
     ]
    }
   ],
   "source": [
    "\n",
    "target_list = [element for element in range(10) if element % 2 !=1]\n",
    "print(target_list)"
   ]
  },
  {
   "cell_type": "code",
   "execution_count": 104,
   "id": "102febb0-2283-4407-9633-076e70f70782",
   "metadata": {},
   "outputs": [
    {
     "name": "stdout",
     "output_type": "stream",
     "text": [
      "안녕하세요\n",
      "안녕하세요\n",
      "안녕하세요\n",
      "안녕하세요\n",
      "안녕하세요\n"
     ]
    }
   ],
   "source": [
    "def print_n_times(value,n):\n",
    "    for i in range(n):\n",
    "        print(value)\n",
    "\n",
    "print_n_times(\"안녕하세요\",5)"
   ]
  },
  {
   "cell_type": "code",
   "execution_count": 107,
   "id": "0e8330d0-4f54-4db9-ab51-a351aa63341b",
   "metadata": {},
   "outputs": [
    {
     "name": "stdout",
     "output_type": "stream",
     "text": [
      "안녕하세요\n",
      "안녕하세요\n",
      "안녕하세요\n",
      "안녕하세요\n",
      "안녕하세요\n"
     ]
    }
   ],
   "source": [
    "def print_n_times(value, n ):\n",
    "    for i in range(n):\n",
    "        print(value)\n",
    "\n",
    "print_n_times(\"안녕하세요\",5)"
   ]
  },
  {
   "cell_type": "code",
   "execution_count": 108,
   "id": "92327977-dc9c-4688-8f94-3d3631fdcb3e",
   "metadata": {},
   "outputs": [
    {
     "name": "stdout",
     "output_type": "stream",
     "text": [
      "안녕하세요\n",
      "즐거운\n",
      "파이썬 프로그래밍\n",
      "3\n",
      "\n",
      "안녕하세요\n",
      "즐거운\n",
      "파이썬 프로그래밍\n",
      "3\n",
      "\n"
     ]
    }
   ],
   "source": [
    "def print_n_times(*values,n=2):\n",
    "    for i in range(n):\n",
    "        for value in values:\n",
    "            print(value)\n",
    "\n",
    "        print()\n",
    "\n",
    "print_n_times(\"안녕하세요\", \"즐거운\", \"파이썬 프로그래밍\",3)"
   ]
  },
  {
   "cell_type": "code",
   "execution_count": 109,
   "id": "f5b3c0a8-44e6-4061-954d-e9b26be168e8",
   "metadata": {},
   "outputs": [
    {
     "name": "stdout",
     "output_type": "stream",
     "text": [
      "60\n",
      "310\n",
      "310\n",
      "220\n"
     ]
    }
   ],
   "source": [
    "def test(a, b=10, c=100):\n",
    "    print(a+b+c)\n",
    "#1)\n",
    "test(10,20,30)\n",
    "#2)\n",
    "test(a=10,b=100,c=200)\n",
    "#3)\n",
    "test(c=10, a=100, b=200)\n",
    "#4)\n",
    "test(10,c=200)"
   ]
  },
  {
   "cell_type": "code",
   "execution_count": 111,
   "id": "fb15f331-471d-4506-a03e-164df305a1bb",
   "metadata": {},
   "outputs": [
    {
     "name": "stdout",
     "output_type": "stream",
     "text": [
      "0 to 100: 5050\n",
      "0 to 1000: 500500\n",
      "50 to 100:  3825\n",
      "500 to 1000:  375750\n"
     ]
    }
   ],
   "source": [
    "def sum_all(start,end):\n",
    "    output =0\n",
    "    for i in range(start,end+1):\n",
    "        output += i\n",
    "\n",
    "    return output\n",
    "\n",
    "print(\"0 to 100:\",sum_all(0,100))\n",
    "print(\"0 to 1000:\", sum_all(0,1000))\n",
    "print(\"50 to 100: \", sum_all(50,100))\n",
    "print(\"500 to 1000: \", sum_all(500,1000))"
   ]
  },
  {
   "cell_type": "code",
   "execution_count": 113,
   "id": "76de52f6-5093-4f5c-bd97-e675777c5dcc",
   "metadata": {},
   "outputs": [
    {
     "name": "stdout",
     "output_type": "stream",
     "text": [
      "A. 550\n",
      "B. 5050\n",
      "C. 2550\n"
     ]
    }
   ],
   "source": [
    "def sum_all(start=0, end=100,step=1):\n",
    "    output = 0\n",
    "\n",
    "    for i in range(start,end+1, step):\n",
    "        output += i\n",
    "    return output\n",
    "\n",
    "print(\"A.\",sum_all(0,100,10))\n",
    "print(\"B.\",sum_all(end=100))\n",
    "print(\"C.\",sum_all(end=100, step=2))"
   ]
  },
  {
   "cell_type": "code",
   "execution_count": 115,
   "id": "e1879546-8dce-42cb-98b3-bddb650974fc",
   "metadata": {},
   "outputs": [
    {
     "name": "stdout",
     "output_type": "stream",
     "text": [
      "Collecting numpy\n",
      "  Downloading numpy-1.26.3-cp311-cp311-win_amd64.whl.metadata (61 kB)\n",
      "     ---------------------------------------- 0.0/61.2 kB ? eta -:--:--\n",
      "     -------------------- ------------------- 30.7/61.2 kB 1.4 MB/s eta 0:00:01\n",
      "     ---------------------------------------- 61.2/61.2 kB 1.1 MB/s eta 0:00:00\n",
      "Downloading numpy-1.26.3-cp311-cp311-win_amd64.whl (15.8 MB)\n",
      "   ---------------------------------------- 0.0/15.8 MB ? eta -:--:--\n",
      "   - -------------------------------------- 0.5/15.8 MB 10.5 MB/s eta 0:00:02\n",
      "   --- ------------------------------------ 1.3/15.8 MB 13.8 MB/s eta 0:00:02\n",
      "   ------ --------------------------------- 2.5/15.8 MB 17.9 MB/s eta 0:00:01\n",
      "   ----------- ---------------------------- 4.4/15.8 MB 23.4 MB/s eta 0:00:01\n",
      "   ------------------ --------------------- 7.2/15.8 MB 30.8 MB/s eta 0:00:01\n",
      "   ------------------------- -------------- 10.1/15.8 MB 36.1 MB/s eta 0:00:01\n",
      "   -------------------------------- ------- 13.0/15.8 MB 54.7 MB/s eta 0:00:01\n",
      "   ---------------------------------------  15.4/15.8 MB 59.5 MB/s eta 0:00:01\n",
      "   ---------------------------------------  15.8/15.8 MB 59.5 MB/s eta 0:00:01\n",
      "   ---------------------------------------  15.8/15.8 MB 59.5 MB/s eta 0:00:01\n",
      "   ---------------------------------------- 15.8/15.8 MB 34.4 MB/s eta 0:00:00\n",
      "Installing collected packages: numpy\n",
      "Successfully installed numpy-1.26.3\n"
     ]
    }
   ],
   "source": [
    "!pip install numpy"
   ]
  },
  {
   "cell_type": "code",
   "execution_count": 116,
   "id": "1bc38b1d-2b2d-4365-b691-9f7569a30881",
   "metadata": {},
   "outputs": [],
   "source": [
    "import numpy as np"
   ]
  },
  {
   "cell_type": "code",
   "execution_count": 117,
   "id": "757dfc85-5577-4a55-a37a-0b65476a5c14",
   "metadata": {},
   "outputs": [
    {
     "data": {
      "text/plain": [
       "array([1., 4., 5., 8.])"
      ]
     },
     "execution_count": 117,
     "metadata": {},
     "output_type": "execute_result"
    }
   ],
   "source": [
    "test_array = np.array([1,4,5,8],float)\n",
    "test_array"
   ]
  },
  {
   "cell_type": "code",
   "execution_count": 118,
   "id": "44a4a579-57ab-4fd9-89ac-44ac54b0f53b",
   "metadata": {},
   "outputs": [
    {
     "data": {
      "text/plain": [
       "numpy.float64"
      ]
     },
     "execution_count": 118,
     "metadata": {},
     "output_type": "execute_result"
    }
   ],
   "source": [
    "type(test_array[3])"
   ]
  },
  {
   "cell_type": "code",
   "execution_count": null,
   "id": "ea811b66-10f4-44c3-87c9-9d1dff19c86a",
   "metadata": {},
   "outputs": [],
   "source": [
    "!pip uninstall nump"
   ]
  }
 ],
 "metadata": {
  "kernelspec": {
   "display_name": "Python 3 (ipykernel)",
   "language": "python",
   "name": "python3"
  },
  "language_info": {
   "codemirror_mode": {
    "name": "ipython",
    "version": 3
   },
   "file_extension": ".py",
   "mimetype": "text/x-python",
   "name": "python",
   "nbconvert_exporter": "python",
   "pygments_lexer": "ipython3",
   "version": "3.11.7"
  }
 },
 "nbformat": 4,
 "nbformat_minor": 5
}
